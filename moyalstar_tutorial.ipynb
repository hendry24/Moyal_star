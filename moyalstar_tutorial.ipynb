{
 "cells": [
  {
   "cell_type": "markdown",
   "metadata": {},
   "source": [
    "# **Tutorial: the simple harmonic oscillator**"
   ]
  },
  {
   "cell_type": "markdown",
   "metadata": {},
   "source": [
    "As an easy walkthrough, let us work through the Moyal equation for the (quantum) simple harmonic oscillator (SHO). As we are familiar with in the Hilbert space formalism, the SHO can be described by the following Liouville-von Neumann equation:\n",
    "$$\n",
    "\\frac{\\mathrm{d}\\rho}{\\mathrm{d}t} = -i\\left(\\hat{a}^\\dagger \\hat{a}\\rho-\\rho\\hat{a}^\\dagger \\hat{a}\\right)\\tag{1}\n",
    "$$\n",
    "where $\\hat{a}=\\left(\\hat{x}+i\\hat{p}\\right)/\\sqrt{2}$ is the annihilation operator. The Moyal equation can be obtained by applying the Wigner transformation to Eq. (1). We obtain\n",
    "$$\n",
    "{\\partial_t W} = -i\\left(\\hat{a}^\\dagger \\star \\hat{a}\\star W-W\\star\\hat{a}^\\dagger\\star \\hat{a}\\right)\\tag{2}\n",
    "$$\n",
    "where $W$ is the system's Wigner function. Here the Moyal star-product is defined as:\n",
    "$$\n",
    "A(x,p)\\star B(x,p) = A\\left(x+\\frac{i}{2}\\partial_{p'}, p-\\frac{i}{2}\\partial_{x'}\\right)B(x',p')\\Big|_{x'=x,p'=p} = B\\left(x-\\frac{i}{2}\\partial_{p'}, p+\\frac{i}{2}\\partial_{x'}\\right)A(x',p')\\Big|_{x'=x,p'=p} \\tag{3}\n",
    "$$\n",
    "It is essentially ordinary multiplication between two scalar functions, which behaves like matrix multiplication. The change $x\\rightarrow x\\pm i\\partial_x/2$ and likewise for $p is called the \"Bopp shift\".\n",
    "\n",
    "This should be enough explanation---more information is available in our references. Let us code. \n",
    "\n",
    "---\n",
    "\n",
    "For the interested readers wanting to try this for themselves, feel free to install the module via `pip`:\n",
    "\n",
    "```\n",
    "pip install git+https://github.com/hendry24/moyalstar\n",
    "```"
   ]
  },
  {
   "cell_type": "code",
   "execution_count": 1,
   "metadata": {},
   "outputs": [],
   "source": [
    "import moyalstar as ms\n",
    "import sympy as sm"
   ]
  },
  {
   "cell_type": "markdown",
   "metadata": {},
   "source": [
    "### **Setting symbols**\n",
    "\n",
    "#### Variables beginning with double letters are deliberately made noncommutative."
   ]
  },
  {
   "cell_type": "code",
   "execution_count": 32,
   "metadata": {},
   "outputs": [
    {
     "data": {
      "text/latex": [
       "$\\displaystyle \\frac{\\sqrt{2} \\left(i p + x\\right)}{2}$"
      ],
      "text/plain": [
       "sqrt(2)*(I*p + x)/2"
      ]
     },
     "execution_count": 32,
     "metadata": {},
     "output_type": "execute_result"
    }
   ],
   "source": [
    "I, W, x, p, xx, pp, ddx, ddp = ms.get_symbols()\n",
    "W = W(x,p)  # It is mandatory to assign true variables to W when using `star`.\n",
    "\n",
    "sqrt2 =sm.sqrt(2)\n",
    "t = sm.symbols(\"t\", real=True)\n",
    "\n",
    "a = (x + I*p)/sqrt2\n",
    "adag = sm.conjugate(a)\n",
    "a"
   ]
  },
  {
   "cell_type": "markdown",
   "metadata": {},
   "source": [
    "### **Trying out the Bopp shift**"
   ]
  },
  {
   "cell_type": "code",
   "execution_count": 3,
   "metadata": {},
   "outputs": [
    {
     "data": {
      "text/latex": [
       "$\\displaystyle x + \\frac{i \\partial_{p'}}{2}$"
      ],
      "text/plain": [
       "x + I*\\partial_{p'}/2"
      ]
     },
     "execution_count": 3,
     "metadata": {},
     "output_type": "execute_result"
    }
   ],
   "source": [
    "ms.bopp(x)"
   ]
  },
  {
   "cell_type": "code",
   "execution_count": 5,
   "metadata": {},
   "outputs": [
    {
     "data": {
      "text/latex": [
       "$\\displaystyle x - \\frac{i \\partial_{p'}}{2}$"
      ],
      "text/plain": [
       "x - I*\\partial_{p'}/2"
      ]
     },
     "execution_count": 5,
     "metadata": {},
     "output_type": "execute_result"
    }
   ],
   "source": [
    "ms.bopp(x, left=True)"
   ]
  },
  {
   "cell_type": "code",
   "execution_count": 9,
   "metadata": {},
   "outputs": [
    {
     "data": {
      "text/latex": [
       "$\\displaystyle \\frac{\\sqrt{2} i p}{2} + \\frac{\\sqrt{2} x}{2} + \\frac{\\sqrt{2} i \\partial_{p'}}{4} + \\frac{\\sqrt{2} \\partial_{x'}}{4}$"
      ],
      "text/plain": [
       "sqrt(2)*I*p/2 + sqrt(2)*x/2 + sqrt(2)*I*\\partial_{p'}/4 + sqrt(2)*\\partial_{x'}/4"
      ]
     },
     "execution_count": 9,
     "metadata": {},
     "output_type": "execute_result"
    }
   ],
   "source": [
    "ms.bopp(a)"
   ]
  },
  {
   "cell_type": "markdown",
   "metadata": {},
   "source": [
    "### **Calculating the Moyal star-product**"
   ]
  },
  {
   "cell_type": "code",
   "execution_count": 24,
   "metadata": {},
   "outputs": [
    {
     "data": {
      "text/latex": [
       "$\\displaystyle \\frac{p^{2} W{\\left(x,p \\right)}}{2} - \\frac{i p \\frac{\\partial}{\\partial x} W{\\left(x,p \\right)}}{2} + \\frac{x^{2} W{\\left(x,p \\right)}}{2} + \\frac{i x \\frac{\\partial}{\\partial p} W{\\left(x,p \\right)}}{2} - \\frac{W{\\left(x,p \\right)}}{2} - \\frac{\\frac{\\partial^{2}}{\\partial p^{2}} W{\\left(x,p \\right)}}{8} - \\frac{\\frac{\\partial^{2}}{\\partial x^{2}} W{\\left(x,p \\right)}}{8}$"
      ],
      "text/plain": [
       "p**2*W(x, p)/2 - I*p*Derivative(W(x, p), x)/2 + x**2*W(x, p)/2 + I*x*Derivative(W(x, p), p)/2 - W(x, p)/2 - Derivative(W(x, p), (p, 2))/8 - Derivative(W(x, p), (x, 2))/8"
      ]
     },
     "execution_count": 24,
     "metadata": {},
     "output_type": "execute_result"
    }
   ],
   "source": [
    "adag_star_a = ms.star(adag, a)\n",
    "adag_star_a_star_W = ms.star(adag_star_a, W)\n",
    "adag_star_a_star_W"
   ]
  },
  {
   "cell_type": "code",
   "execution_count": 25,
   "metadata": {},
   "outputs": [
    {
     "data": {
      "text/latex": [
       "$\\displaystyle \\frac{p^{2} W{\\left(x,p \\right)}}{2} + \\frac{i p \\frac{\\partial}{\\partial x} W{\\left(x,p \\right)}}{2} + \\frac{x^{2} W{\\left(x,p \\right)}}{2} - \\frac{i x \\frac{\\partial}{\\partial p} W{\\left(x,p \\right)}}{2} - \\frac{W{\\left(x,p \\right)}}{2} - \\frac{\\frac{\\partial^{2}}{\\partial p^{2}} W{\\left(x,p \\right)}}{8} - \\frac{\\frac{\\partial^{2}}{\\partial x^{2}} W{\\left(x,p \\right)}}{8}$"
      ],
      "text/plain": [
       "p**2*W(x, p)/2 + I*p*Derivative(W(x, p), x)/2 + x**2*W(x, p)/2 - I*x*Derivative(W(x, p), p)/2 - W(x, p)/2 - Derivative(W(x, p), (p, 2))/8 - Derivative(W(x, p), (x, 2))/8"
      ]
     },
     "execution_count": 25,
     "metadata": {},
     "output_type": "execute_result"
    }
   ],
   "source": [
    "W_star_adag_star_a = ms.star(W, adag_star_a)\n",
    "W_star_adag_star_a"
   ]
  },
  {
   "cell_type": "markdown",
   "metadata": {},
   "source": [
    "### **The Moyal equation**"
   ]
  },
  {
   "cell_type": "code",
   "execution_count": 34,
   "metadata": {},
   "outputs": [
    {
     "data": {
      "text/latex": [
       "$\\displaystyle \\frac{\\partial}{\\partial t} W{\\left(x,p \\right)} = - p \\frac{\\partial}{\\partial x} W{\\left(x,p \\right)} + x \\frac{\\partial}{\\partial p} W{\\left(x,p \\right)}$"
      ],
      "text/plain": [
       "Eq(Derivative(W(x, p), t), -p*Derivative(W(x, p), x) + x*Derivative(W(x, p), p))"
      ]
     },
     "execution_count": 34,
     "metadata": {},
     "output_type": "execute_result"
    }
   ],
   "source": [
    "sm.Equality(sm.Derivative(W, t),\n",
    "            sm.expand(-I * (adag_star_a_star_W - W_star_adag_star_a)))"
   ]
  },
  {
   "cell_type": "markdown",
   "metadata": {},
   "source": [
    "and we are done!\n",
    "\n",
    "---\n",
    "\n",
    "### **References**\n",
    "\n",
    "    - T. Curtright, D. Fairlie, and C. Zachos, A Concise Treatise On Quantum Mechanics In Phase Space (World Scientific Publishing Company, 2013)\n",
    "    \n",
    "    - https://physics.stackexchange.com/questions/578522/why-does-the-star-product-satisfy-the-bopp-shift-relations-fx-p-star-gx-p\n"
   ]
  }
 ],
 "metadata": {
  "kernelspec": {
   "display_name": "pyvenv",
   "language": "python",
   "name": "python3"
  },
  "language_info": {
   "codemirror_mode": {
    "name": "ipython",
    "version": 3
   },
   "file_extension": ".py",
   "mimetype": "text/x-python",
   "name": "python",
   "nbconvert_exporter": "python",
   "pygments_lexer": "ipython3",
   "version": "3.12.3"
  }
 },
 "nbformat": 4,
 "nbformat_minor": 2
}
